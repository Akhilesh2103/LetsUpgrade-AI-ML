{
 "cells": [
  {
   "cell_type": "code",
   "execution_count": 9,
   "metadata": {},
   "outputs": [
    {
     "name": "stdout",
     "output_type": "stream",
     "text": [
      "Substraction of two complex numbers =   (43+65j)\n"
     ]
    }
   ],
   "source": [
    "#Q1 Program to substract two complex numbers\n",
    "\n",
    "a=114+31j\n",
    "b=71-34j\n",
    "\n",
    "c= a-b\n",
    "\n",
    "print(\"Substraction of two complex numbers =  \",c)\n"
   ]
  },
  {
   "cell_type": "code",
   "execution_count": 13,
   "metadata": {},
   "outputs": [
    {
     "name": "stdout",
     "output_type": "stream",
     "text": [
      "The fourth root of variable x =   46.23027837891431\n"
     ]
    }
   ],
   "source": [
    "#Program to find fourth root of a number\n",
    "\n",
    "x=4567789\n",
    "\n",
    "t=x**0.25\n",
    "\n",
    "print(\"The fourth root of variable x =  \",t)\n",
    "\n",
    "\n"
   ]
  },
  {
   "cell_type": "code",
   "execution_count": 16,
   "metadata": {},
   "outputs": [
    {
     "name": "stdout",
     "output_type": "stream",
     "text": [
      "x=  10 y=  7\n"
     ]
    }
   ],
   "source": [
    "#Program to swap two numbers with the help of a temperory variable.\n",
    "\n",
    "x=7\n",
    "y=10\n",
    "\n",
    "z=x\n",
    "x=y\n",
    "y=z\n",
    "\n",
    "print(\"x= \",x,\"y= \",y)\n"
   ]
  },
  {
   "cell_type": "code",
   "execution_count": 38,
   "metadata": {},
   "outputs": [
    {
     "name": "stdout",
     "output_type": "stream",
     "text": [
      "<class 'int'>\n",
      "X=  10 y=  7.0\n",
      "<class 'float'>\n"
     ]
    }
   ],
   "source": [
    "#program to swap two numbers without using a temporary variable.\n",
    "\n",
    "x=7\n",
    "y=10\n",
    "\n",
    "print(type(x))\n",
    "\n",
    "y=x*y\n",
    "x=y/x\n",
    "y=y/x\n",
    "\n",
    "print(\"X= \",int(x),\"y= \",y)\n",
    "print(type(x))"
   ]
  },
  {
   "cell_type": "code",
   "execution_count": 57,
   "metadata": {
    "scrolled": true
   },
   "outputs": [
    {
     "name": "stdout",
     "output_type": "stream",
     "text": [
      "Temperature in degree Clsius =  19167 , Temperature in Kelvin =  19440\n"
     ]
    }
   ],
   "source": [
    "#program to convert Fahrenheit to kelvin and celsius.\n",
    "\n",
    "f=34533\n",
    "\n",
    "\n",
    "c=(f-32)*5/9\n",
    "\n",
    "k=273.15+c\n",
    "\n",
    "print(\"Temperature in degree Clsius = \",int(c),\",\",\"Temperature in Kelvin = \",int(k))\n"
   ]
  },
  {
   "cell_type": "code",
   "execution_count": 78,
   "metadata": {},
   "outputs": [
    {
     "name": "stdout",
     "output_type": "stream",
     "text": [
      "<class 'int'> <class 'float'> <class 'str'> <class 'complex'> <class 'list'> <class 'tuple'>\n"
     ]
    }
   ],
   "source": [
    "a=1121\n",
    "b=1.121\n",
    "c=(\"One One Two One\")\n",
    "d=11+21j\n",
    "e=[1,22,33,44,55]\n",
    "f=(1,2,33,44)\n",
    "\n",
    "print(type(a),type(b),type(c),type(d),type(e),type(f))\n",
    "\n"
   ]
  },
  {
   "cell_type": "code",
   "execution_count": null,
   "metadata": {},
   "outputs": [],
   "source": []
  }
 ],
 "metadata": {
  "kernelspec": {
   "display_name": "Python 3",
   "language": "python",
   "name": "python3"
  },
  "language_info": {
   "codemirror_mode": {
    "name": "ipython",
    "version": 3
   },
   "file_extension": ".py",
   "mimetype": "text/x-python",
   "name": "python",
   "nbconvert_exporter": "python",
   "pygments_lexer": "ipython3",
   "version": "3.8.3"
  }
 },
 "nbformat": 4,
 "nbformat_minor": 4
}
