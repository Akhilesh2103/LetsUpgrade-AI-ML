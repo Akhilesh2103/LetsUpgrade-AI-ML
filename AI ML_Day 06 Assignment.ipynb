{
 "cells": [
  {
   "cell_type": "code",
   "execution_count": 11,
   "metadata": {},
   "outputs": [
    {
     "name": "stdout",
     "output_type": "stream",
     "text": [
      "Enter a valid e-mail id in (.com) domain as user name : Akhilesh@Jayta.com\n",
      "The Company name is:  Jayta\n"
     ]
    }
   ],
   "source": [
    "# Question 1 \n",
    "# Input a mail id in .Com domain as a username\n",
    "\n",
    "e=input(\"Enter a valid e-mail id in \"\"(.com) \" \"domain as user name : \")\n",
    "k=e.find(\"@\")\n",
    "l=e.find(\".com\")\n",
    "\n",
    "print(\"The Company name is: \", e[k+1:l])"
   ]
  },
  {
   "cell_type": "code",
   "execution_count": 24,
   "metadata": {},
   "outputs": [
    {
     "name": "stdout",
     "output_type": "stream",
     "text": [
      "Enter the list of words to be sorted: Akhi,Zoro,Bob,Martin\n",
      "['Akhi,Zoro,Bob,Martin']\n"
     ]
    }
   ],
   "source": [
    "#Question 2\n",
    "\n",
    "#lst=[input(\"Enter the list of words to be sorted: \")]\n",
    "#print(sorted(lst))\n",
    "\n",
    "print(sorted([input(\"Enter the list of words to be sorted: \")]))"
   ]
  },
  {
   "cell_type": "code",
   "execution_count": 76,
   "metadata": {},
   "outputs": [
    {
     "name": "stdout",
     "output_type": "stream",
     "text": [
      "[2, 4, 6, 8]\n"
     ]
    }
   ],
   "source": [
    "#Question4\n",
    "    #revise\n",
    "\n",
    "def mval(lst): \n",
    "    return [x for x in range(lst[0], lst[-1]) if x not in lst] \n",
    "   \n",
    "lst = [1,3,5,7,9] \n",
    "print(mval(lst)) "
   ]
  },
  {
   "cell_type": "code",
   "execution_count": 93,
   "metadata": {},
   "outputs": [
    {
     "name": "stdout",
     "output_type": "stream",
     "text": [
      "2 34 4 99 6 7 999 12 1011 55\n"
     ]
    }
   ],
   "source": [
    "#Question 5\n",
    "l1 = [2,4,6,6,7,7,12,34,55,2,99,999,1011,55] \n",
    "k=list(set(l1))\n",
    "print(*k)\n"
   ]
  },
  {
   "cell_type": "markdown",
   "metadata": {},
   "source": [
    "# Note book of Sets\n",
    "\n"
   ]
  },
  {
   "cell_type": "code",
   "execution_count": null,
   "metadata": {},
   "outputs": [],
   "source": []
  }
 ],
 "metadata": {
  "kernelspec": {
   "display_name": "Python 3",
   "language": "python",
   "name": "python3"
  },
  "language_info": {
   "codemirror_mode": {
    "name": "ipython",
    "version": 3
   },
   "file_extension": ".py",
   "mimetype": "text/x-python",
   "name": "python",
   "nbconvert_exporter": "python",
   "pygments_lexer": "ipython3",
   "version": "3.8.3"
  }
 },
 "nbformat": 4,
 "nbformat_minor": 4
}
